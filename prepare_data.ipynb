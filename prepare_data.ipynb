{
 "cells": [
  {
   "cell_type": "code",
   "execution_count": 1,
   "metadata": {},
   "outputs": [],
   "source": [
    "import os\n",
    "import random\n",
    "import shutil\n",
    "import numpy as np\n",
    "from scipy import misc\n",
    "from skimage import morphology, measure\n",
    "from sklearn.cluster import KMeans\n",
    "from scipy.ndimage.morphology import distance_transform_edt as dist_transform\n",
    "import glob\n",
    "import json\n",
    "import matplotlib.pyplot as plt\n",
    "%matplotlib inline"
   ]
  },
  {
   "cell_type": "code",
   "execution_count": 2,
   "metadata": {},
   "outputs": [],
   "source": [
    "def create_folder(folder):\n",
    "    if not os.path.exists(folder):\n",
    "        os.mkdir(folder)"
   ]
  },
  {
   "cell_type": "code",
   "execution_count": 3,
   "metadata": {},
   "outputs": [],
   "source": [
    "dataset_r = 'DSB2018plus'  # LC: Lung Cancer, MO: MultiOrgan\n",
    "subset = 'stage_1_train'\n",
    "if subset != None:\n",
    "    dataset = os.path.join(dataset_r, subset)\n",
    "else:\n",
    "    dataset = dataset_r\n",
    "\n",
    "data_dir = '../cell_data/{:s}'.format(dataset)\n",
    "img_dir = data_dir\n",
    "label_instance_dir = './data/{:s}/labels_instance'.format(dataset)\n",
    "label_point_dir = './data/{:s}/labels_point'.format(dataset)\n",
    "label_vor_dir = './data/{:s}/labels_voronoi'.format(dataset)\n",
    "label_cluster_dir = './data/{:s}/labels_cluster'.format(dataset)\n",
    "patch_folder = './data/{:s}/patches'.format(dataset)\n",
    "train_data_dir = './data_for_train/{:s}'.format(dataset)\n",
    "create_folder(label_instance_dir)\n",
    "create_folder('./data')\n",
    "create_folder('./data/{:s}'.format(dataset_r))\n",
    "create_folder('./data/{:s}'.format(dataset))\n",
    "create_folder('./data_for_train')\n",
    "create_folder('./data_for_train/{:s}'.format(dataset_r))\n",
    "create_folder('./data_for_train/{:s}'.format(dataset))\n",
    "create_folder(label_point_dir)\n",
    "create_folder(label_vor_dir)\n",
    "create_folder(label_cluster_dir)\n",
    "create_folder(patch_folder)\n",
    "create_folder(train_data_dir)\n",
    "\n",
    "#image_list = os.listdir(data_dir)\n",
    "\n",
    "#seed = 448\n",
    "#random.seed(seed)\n",
    "#random.shuffle(image_list)\n",
    "\n",
    "#train = image_list[:int(len(image_list)*0.8)]\n",
    "#valid = image_list[int(len(image_list)*0.8):int(len(image_list)*0.9)]\n",
    "#test = image_list[int(len(image_list)*0.9):]\n",
    "\n",
    "#data_list = {'train': train, 'val': valid, 'test': test}\n",
    "#with open('./data/{:s}/train_val_test.json'.format(dataset), 'w') as file:\n",
    "#    json.dump(data_list, file)\n",
    "with open('./data/{:s}/train_val_test.json'.format(dataset), 'r') as file:\n",
    "    data_list = json.load(file)\n",
    "    train_list = data_list['train']"
   ]
  },
  {
   "cell_type": "code",
   "execution_count": 4,
   "metadata": {},
   "outputs": [],
   "source": [
    "def create_labels_instance(data_dir, dataset, save_dir):\n",
    "    \n",
    "    with open('./data/{:s}/train_val_test.json'.format(dataset), 'r') as file:\n",
    "        data_list = json.load(file)\n",
    "        train_list = data_list['train']\n",
    "    \n",
    "    image_list = os.listdir(data_dir)\n",
    "    for image_name in image_list:\n",
    "        image_path = os.path.join(data_dir, image_name)\n",
    "        mask_list = glob.glob(image_path + '/masks/*.png')\n",
    "        if len(mask_list)<4 and mask_list in train_list:\n",
    "            print(mask_list)\n",
    "            train_list.remove(mask_list)\n",
    "            continue\n",
    "        masks=[]\n",
    "        for i, mask_file in enumerate(mask_list):\n",
    "            mask = misc.imread(mask_file)\n",
    "            masks.append(mask*(i+1))\n",
    "        masks = np.stack(masks, axis=-1)\n",
    "        masks = np.sum(masks, axis=-1)\n",
    "        misc.imsave('{:s}/{:s}_label.png'.format(save_dir, image_name), masks.astype(np.uint8))\n",
    "    with open('./data/{:s}/train_val_test.json'.format(dataset), 'w') as file:\n",
    "        json.dump(data_list, file)"
   ]
  },
  {
   "cell_type": "code",
   "execution_count": 5,
   "metadata": {},
   "outputs": [
    {
     "name": "stderr",
     "output_type": "stream",
     "text": [
      "/home/vincentwu-cmlab/miniconda3/envs/ammai/lib/python3.7/site-packages/ipykernel_launcher.py:17: DeprecationWarning: `imread` is deprecated!\n",
      "`imread` is deprecated in SciPy 1.0.0, and will be removed in 1.2.0.\n",
      "Use ``imageio.imread`` instead.\n",
      "/home/vincentwu-cmlab/miniconda3/envs/ammai/lib/python3.7/site-packages/ipykernel_launcher.py:21: DeprecationWarning: `imsave` is deprecated!\n",
      "`imsave` is deprecated in SciPy 1.0.0, and will be removed in 1.2.0.\n",
      "Use ``imageio.imwrite`` instead.\n"
     ]
    }
   ],
   "source": [
    "create_labels_instance(data_dir, dataset, label_instance_dir)"
   ]
  },
  {
   "cell_type": "code",
   "execution_count": 6,
   "metadata": {},
   "outputs": [],
   "source": [
    "#with open('./data/{:s}/train_val_test.json'.format(dataset), 'r') as file:\n",
    "#    data_list = json.load(file)\n",
    "#    train_list = data_list['train']"
   ]
  },
  {
   "cell_type": "code",
   "execution_count": 7,
   "metadata": {},
   "outputs": [],
   "source": [
    "#train_list.remove('93c5638e7e6433b5c9cc87c152bcbe28873d2f9d6a392cca0642520807542a77')\n",
    "#train_list.remove('220b37f4ca7cab486d2b71cd87a46ee7411a5aa142799d96ed98015ab5ba538a')\n",
    "#train_list.remove('e5aeb5b3577abbebe8982b5dd7d22c4257250ad3000661a42f38bf9248d291fd')"
   ]
  },
  {
   "cell_type": "code",
   "execution_count": 8,
   "metadata": {},
   "outputs": [],
   "source": [
    "#with open('./data/{:s}/train_val_test.json'.format(dataset), 'w') as file:\n",
    "#    json.dump(data_list, file)"
   ]
  },
  {
   "cell_type": "markdown",
   "metadata": {},
   "source": [
    "# create point label from instance"
   ]
  },
  {
   "cell_type": "code",
   "execution_count": 9,
   "metadata": {},
   "outputs": [],
   "source": [
    "def create_point_label_from_instance(data_dir, save_dir, train_list):\n",
    "    def get_point(img):\n",
    "        a = np.where(img != 0)\n",
    "        rmin, rmax, cmin, cmax = np.min(a[0]), np.max(a[0]), np.min(a[1]), np.max(a[1])\n",
    "        return (rmin + rmax) // 2, (cmin + cmax) // 2\n",
    "\n",
    "    print(\"Generating point label from instance label...\")\n",
    "    image_list = os.listdir(data_dir)\n",
    "    N_total = len(train_list)\n",
    "    N_processed = 0\n",
    "    for image_name in image_list:\n",
    "        name = image_name.split('.')[0]\n",
    "        if name[:-6] not in train_list or name[-5:] != 'label':\n",
    "            continue\n",
    "        N_processed += 1\n",
    "        flag = '' if N_processed < N_total else '\\n'\n",
    "        print('\\r\\t{:d}/{:d}'.format(N_processed, N_total), end=flag)\n",
    "\n",
    "        image_path = os.path.join(data_dir, image_name)\n",
    "        image = misc.imread(image_path)\n",
    "        h, w = image.shape\n",
    "\n",
    "        # extract bbox\n",
    "        id_max = np.max(image)\n",
    "        label_point = np.zeros((h, w), dtype=np.uint8)\n",
    "\n",
    "        for i in range(1, id_max + 1):\n",
    "            nucleus = image == i\n",
    "            if np.sum(nucleus) == 0:\n",
    "                continue\n",
    "            x, y = get_point(nucleus)\n",
    "            label_point[x, y] = 255\n",
    "\n",
    "        misc.imsave('{:s}/{:s}_point.png'.format(save_dir, name), label_point.astype(np.uint8))"
   ]
  },
  {
   "cell_type": "code",
   "execution_count": 10,
   "metadata": {},
   "outputs": [
    {
     "name": "stdout",
     "output_type": "stream",
     "text": [
      "Generating point label from instance label...\n",
      "\r",
      "\t1/528\r",
      "\t2/528"
     ]
    },
    {
     "name": "stderr",
     "output_type": "stream",
     "text": [
      "/home/vincentwu-cmlab/miniconda3/envs/ammai/lib/python3.7/site-packages/ipykernel_launcher.py:20: DeprecationWarning: `imread` is deprecated!\n",
      "`imread` is deprecated in SciPy 1.0.0, and will be removed in 1.2.0.\n",
      "Use ``imageio.imread`` instead.\n",
      "/home/vincentwu-cmlab/miniconda3/envs/ammai/lib/python3.7/site-packages/ipykernel_launcher.py:34: DeprecationWarning: `imsave` is deprecated!\n",
      "`imsave` is deprecated in SciPy 1.0.0, and will be removed in 1.2.0.\n",
      "Use ``imageio.imwrite`` instead.\n"
     ]
    },
    {
     "name": "stdout",
     "output_type": "stream",
     "text": [
      "\t528/528\n"
     ]
    }
   ],
   "source": [
    "label_points = create_point_label_from_instance(label_instance_dir, label_point_dir, train_list)"
   ]
  },
  {
   "cell_type": "markdown",
   "metadata": {},
   "source": [
    "# Create Voronoi label"
   ]
  },
  {
   "cell_type": "code",
   "execution_count": 13,
   "metadata": {},
   "outputs": [],
   "source": [
    "def create_Voronoi_label(data_dir, save_dir, train_list):\n",
    "    from scipy.spatial import Voronoi\n",
    "    from shapely.geometry import Polygon\n",
    "    from utils import voronoi_finite_polygons_2d, poly2mask\n",
    "    img_list = os.listdir(data_dir)\n",
    "\n",
    "    print(\"Generating Voronoi label from point label...\")\n",
    "    N_total = len(train_list)\n",
    "    N_processed = 0\n",
    "    for img_name in sorted(img_list):\n",
    "        name = img_name.split('.')[0]\n",
    "        if name[:-12] not in train_list:\n",
    "            continue\n",
    "\n",
    "        N_processed += 1\n",
    "        flag = '' if N_processed < N_total else '\\n'\n",
    "        print('\\r\\t{:d}/{:d}'.format(N_processed, N_total), end=flag)\n",
    "\n",
    "        img_path = '{:s}/{:s}'.format(data_dir, img_name)\n",
    "        \n",
    "        label_point = misc.imread(img_path)\n",
    "        h, w = label_point.shape\n",
    "\n",
    "        points = np.argwhere(label_point > 0)\n",
    "        vor = Voronoi(points)\n",
    "\n",
    "        regions, vertices = voronoi_finite_polygons_2d(vor)\n",
    "        box = Polygon([[0, 0], [0, w], [h, w], [h, 0]])\n",
    "        region_masks = np.zeros((h, w), dtype=np.int16)\n",
    "        edges = np.zeros((h, w), dtype=np.bool)\n",
    "        count = 1\n",
    "        for region in regions:\n",
    "            polygon = vertices[region]\n",
    "            # Clipping polygon\n",
    "            poly = Polygon(polygon)\n",
    "            poly = poly.intersection(box)\n",
    "            polygon = np.array([list(p) for p in poly.exterior.coords])\n",
    "\n",
    "            mask = poly2mask(polygon[:, 0], polygon[:, 1], (h, w))\n",
    "            edge = mask * (~morphology.erosion(mask, morphology.disk(1)))\n",
    "            edges += edge\n",
    "            region_masks[mask] = count\n",
    "            count += 1\n",
    "\n",
    "        # fuse Voronoi edge and dilated points\n",
    "        label_point_dilated = morphology.dilation(label_point, morphology.disk(2))\n",
    "        label_vor = np.zeros((h, w, 3), dtype=np.uint8)\n",
    "        label_vor[:, :, 0] = (edges > 0).astype(np.uint8) * 255\n",
    "        label_vor[:, :, 1] = (label_point_dilated > 0).astype(np.uint8) * 255\n",
    "\n",
    "        name = img_name.split('.')[0]\n",
    "        #misc.imsave('{:s}/{:s}_label_vor.png'.format(save_dir, name[:-12]), label_vor)\n",
    "        plt.imshow(label_vor)\n",
    "        break"
   ]
  },
  {
   "cell_type": "code",
   "execution_count": 14,
   "metadata": {},
   "outputs": [
    {
     "name": "stdout",
     "output_type": "stream",
     "text": [
      "Generating Voronoi label from point label...\n",
      "\r",
      "\t1/528"
     ]
    },
    {
     "name": "stderr",
     "output_type": "stream",
     "text": [
      "/home/vincentwu-cmlab/miniconda3/envs/ammai/lib/python3.7/site-packages/ipykernel_launcher.py:21: DeprecationWarning: `imread` is deprecated!\n",
      "`imread` is deprecated in SciPy 1.0.0, and will be removed in 1.2.0.\n",
      "Use ``imageio.imread`` instead.\n"
     ]
    },
    {
     "data": {
      "image/png": "[encoded data removed]",
      "text/plain": [
       "<Figure size 432x288 with 1 Axes>"
      ]
     },
     "metadata": {
      "needs_background": "light"
     },
     "output_type": "display_data"
    }
   ],
   "source": [
    "create_Voronoi_label(label_point_dir, label_vor_dir, train_list)"
   ]
  },
  {
   "cell_type": "markdown",
   "metadata": {},
   "source": [
    "# Create cluster label"
   ]
  },
  {
   "cell_type": "code",
   "execution_count": 21,
   "metadata": {},
   "outputs": [],
   "source": [
    "def create_cluster_label(data_dir, label_point_dir, label_vor_dir, save_dir, train_list):\n",
    "    from scipy.ndimage import morphology as ndi_morph\n",
    "    img_list = os.listdir(data_dir)\n",
    "    print(\"Generating cluster label from point label...\")\n",
    "    \n",
    "    for img_name in sorted(img_list):\n",
    "        if img_name not in train_list:\n",
    "            continue\n",
    "        ori_image_path = os.path.join(data_dir, img_name)        \n",
    "        # print('\\t[{:d}/{:d}] Processing image {:s} ...'.format(count, len(img_list), img_name))\n",
    "        ori_image = misc.imread('{:s}/{:s}/image/{:s}.png'.format(data_dir, img_name, img_name))\n",
    "        h, w, _ = ori_image.shape\n",
    "        \n",
    "        label_point = misc.imread('{:s}/{:s}_label_point.png'.format(label_point_dir, img_name))\n",
    "        # k-means clustering\n",
    "        dist_embeddings = dist_transform(255 - label_point).reshape(-1, 1)\n",
    "        clip_dist_embeddings = np.clip(dist_embeddings, a_min=0, a_max=20)\n",
    "        color_embeddings = np.array(ori_image, dtype=np.float).reshape(-1, 3) / 10\n",
    "        embeddings = np.concatenate((color_embeddings, clip_dist_embeddings), axis=1)\n",
    "\n",
    "        # print(\"\\t\\tPerforming k-means clustering...\")\n",
    "        kmeans = KMeans(n_clusters=3, random_state=0).fit(embeddings)\n",
    "        clusters = np.reshape(kmeans.labels_, (h, w))\n",
    "\n",
    "        # get nuclei and background clusters\n",
    "        overlap_nums = [np.sum((clusters == i) * label_point) for i in range(3)]\n",
    "        nuclei_idx = np.argmax(overlap_nums)\n",
    "        remain_indices = np.delete(np.arange(3), nuclei_idx)\n",
    "        dilated_label_point = morphology.binary_dilation(label_point, morphology.disk(5))\n",
    "        overlap_nums = [np.sum((clusters == i) * dilated_label_point) for i in remain_indices]\n",
    "        background_idx = remain_indices[np.argmin(overlap_nums)]\n",
    "\n",
    "        nuclei_cluster = clusters == nuclei_idx\n",
    "        background_cluster = clusters == background_idx\n",
    "        # overlap_nums = [np.sum((clusters == i) * label_point) for i in range(3)]\n",
    "        # nuclei_idx = np.argmax(overlap_nums)\n",
    "        # nuclei_cluster = clusters == nuclei_idx\n",
    "        # nuclei_cluster = ndi_morph.binary_fill_holes(nuclei_cluster)\n",
    "        #\n",
    "        # # get background cluster\n",
    "        # remain_indices = np.delete(np.arange(3), nuclei_idx)\n",
    "        # dilated_nuclei_cluster = morphology.binary_dilation(nuclei_cluster, morphology.disk(3))\n",
    "        # overlap_nums = [np.sum((clusters == i) * dilated_nuclei_cluster) for i in remain_indices]\n",
    "        # background_idx = remain_indices[np.argmin(overlap_nums)]\n",
    "        # background_cluster = clusters == background_idx\n",
    "\n",
    "        # refine clustering results\n",
    "        # print(\"\\t\\tRefining clustering results...\")\n",
    "        nuclei_labeled = measure.label(nuclei_cluster)\n",
    "        initial_nuclei = morphology.remove_small_objects(nuclei_labeled, 30)\n",
    "        refined_nuclei = np.zeros(initial_nuclei.shape, dtype=np.bool)\n",
    "\n",
    "        label_vor = misc.imread('{:s}/{:s}_label_vor.png'.format(label_vor_dir, img_name))\n",
    "        voronoi_cells = measure.label(label_vor[:, :, 0] == 0)\n",
    "        voronoi_cells = morphology.dilation(voronoi_cells, morphology.disk(2))\n",
    "\n",
    "        unique_vals = np.unique(voronoi_cells)\n",
    "        cell_indices = unique_vals[unique_vals != 0]\n",
    "        N = len(cell_indices)\n",
    "        for i in range(N):\n",
    "            cell_i = voronoi_cells == cell_indices[i]\n",
    "            nucleus_i = cell_i * initial_nuclei\n",
    "\n",
    "            nucleus_i_dilated = morphology.binary_dilation(nucleus_i, morphology.disk(5))\n",
    "            nucleus_i_dilated_filled = ndi_morph.binary_fill_holes(nucleus_i_dilated)\n",
    "            nucleus_i_final = morphology.binary_erosion(nucleus_i_dilated_filled, morphology.disk(7))\n",
    "            refined_nuclei += nucleus_i_final > 0\n",
    "\n",
    "        refined_label = np.zeros((h, w, 3), dtype=np.uint8)\n",
    "        label_point_dilated = morphology.dilation(label_point, morphology.disk(10))\n",
    "        refined_label[:, :, 0] = (background_cluster * (refined_nuclei == 0) * (label_point_dilated == 0)).astype(np.uint8) * 255\n",
    "        refined_label[:, :, 1] = refined_nuclei.astype(np.uint8) * 255\n",
    "        plt.figure(figsize=(10,10))\n",
    "        plt.imshow(refined_label)\n",
    "        plt.show()\n",
    "        break"
   ]
  },
  {
   "cell_type": "code",
   "execution_count": 22,
   "metadata": {},
   "outputs": [
    {
     "name": "stdout",
     "output_type": "stream",
     "text": [
      "Generating cluster label from point label...\n"
     ]
    },
    {
     "name": "stderr",
     "output_type": "stream",
     "text": [
      "/home/vincentwu-cmlab/miniconda3/envs/ammai/lib/python3.7/site-packages/ipykernel_launcher.py:11: DeprecationWarning: `imread` is deprecated!\n",
      "`imread` is deprecated in SciPy 1.0.0, and will be removed in 1.2.0.\n",
      "Use ``imageio.imread`` instead.\n",
      "  # This is added back by InteractiveShellApp.init_path()\n",
      "/home/vincentwu-cmlab/miniconda3/envs/ammai/lib/python3.7/site-packages/ipykernel_launcher.py:14: DeprecationWarning: `imread` is deprecated!\n",
      "`imread` is deprecated in SciPy 1.0.0, and will be removed in 1.2.0.\n",
      "Use ``imageio.imread`` instead.\n",
      "  \n",
      "/home/vincentwu-cmlab/miniconda3/envs/ammai/lib/python3.7/site-packages/ipykernel_launcher.py:53: DeprecationWarning: `imread` is deprecated!\n",
      "`imread` is deprecated in SciPy 1.0.0, and will be removed in 1.2.0.\n",
      "Use ``imageio.imread`` instead.\n"
     ]
    },
    {
     "data": {
      "image/png": "[encoded data removed]",
      "text/plain": [
       "<Figure size 720x720 with 1 Axes>"
      ]
     },
     "metadata": {
      "needs_background": "light"
     },
     "output_type": "display_data"
    }
   ],
   "source": [
    "create_cluster_label(img_dir, label_point_dir, label_vor_dir, label_cluster_dir, train_list)"
   ]
  },
  {
   "cell_type": "markdown",
   "metadata": {},
   "source": [
    "# Split patches"
   ]
  },
  {
   "cell_type": "code",
   "execution_count": 25,
   "metadata": {},
   "outputs": [],
   "source": [
    "def split_patches(data_dir, save_dir, post_fix=None):\n",
    "    import math\n",
    "    \"\"\" split large image into small patches \"\"\"\n",
    "    create_folder(save_dir)\n",
    "    \n",
    "    image_list = os.listdir(data_dir)\n",
    "    for image_name in image_list:\n",
    "        name = image_name.split('.')[0]\n",
    "        if post_fix:\n",
    "            image_path = '{:s}/{:s}.png'.format(data_dir, name)\n",
    "\n",
    "        else:\n",
    "            image_path = '{:s}/{:s}/image/{:s}.png'.format(data_dir, name, name)\n",
    "\n",
    "        \n",
    "        image = misc.imread(image_path)\n",
    "        seg_imgs = []\n",
    "        \n",
    "        # split into 16 patches of size 250x250\n",
    "        h, w = image.shape[0], image.shape[1]\n",
    "        patch_size = 250\n",
    "        h_overlap = math.ceil((4 * patch_size - h) / 3)\n",
    "        w_overlap = math.ceil((4 * patch_size - w) / 3)\n",
    "        for i in range(0, h-patch_size+1, patch_size-h_overlap):\n",
    "            for j in range(0, w-patch_size+1, patch_size-w_overlap):\n",
    "                if len(image.shape) == 3:\n",
    "                    patch = image[i:i+patch_size, j:j+patch_size, :]\n",
    "                else:\n",
    "                    patch = image[i:i + patch_size, j:j + patch_size]\n",
    "                seg_imgs.append(patch)\n",
    "\n",
    "        for k in range(len(seg_imgs)):\n",
    "            if post_fix:\n",
    "                misc.imsave('{:s}/{:s}_{:d}_{:s}.png'.format(save_dir, name[:-len(post_fix)-1], k, post_fix), seg_imgs[k])\n",
    "            else:\n",
    "                misc.imsave('{:s}/{:s}_{:d}.png'.format(save_dir, name, k), seg_imgs[k])"
   ]
  },
  {
   "cell_type": "code",
   "execution_count": 29,
   "metadata": {},
   "outputs": [],
   "source": [
    "#split_patches(img_dir, '{:s}/images'.format(patch_folder))"
   ]
  },
  {
   "cell_type": "code",
   "execution_count": 30,
   "metadata": {},
   "outputs": [],
   "source": [
    "#split_patches(label_vor_dir, '{:s}/labels_voronoi'.format(patch_folder), 'label_vor')"
   ]
  },
  {
   "cell_type": "code",
   "execution_count": 31,
   "metadata": {},
   "outputs": [],
   "source": [
    "def organize_data_for_training(data_dir, dataset, train_data_dir):\n",
    "    # --- Step 1: create folders --- #\n",
    "    create_folder(train_data_dir)\n",
    "    create_folder('{:s}/images'.format(train_data_dir))\n",
    "    create_folder('{:s}/labels_voronoi'.format(train_data_dir))\n",
    "    create_folder('{:s}/labels_cluster'.format(train_data_dir))\n",
    "    create_folder('{:s}/images/train'.format(train_data_dir))\n",
    "    create_folder('{:s}/images/val'.format(train_data_dir))\n",
    "    create_folder('{:s}/images/test'.format(train_data_dir))\n",
    "    create_folder('{:s}/labels_voronoi/train'.format(train_data_dir))\n",
    "    create_folder('{:s}/labels_cluster/train'.format(train_data_dir))\n",
    "\n",
    "    # --- Step 2: move images and labels to each folder --- #\n",
    "    print('Organizing data for training...')\n",
    "    with open('./data/{:s}/train_val_test.json'.format(dataset), 'r') as file:\n",
    "        data_list = json.load(file)\n",
    "        train_list, val_list, test_list = data_list['train'], data_list['val'], data_list['test']\n",
    "\n",
    "    # train\n",
    "    for img_name in train_list:\n",
    "        name = img_name.split('.')[0]\n",
    "        # images\n",
    "        for file in glob.glob('./data/{:s}/patches/images/{:s}*'.format(dataset, name)):\n",
    "            file_name = file.split('/')[-1]\n",
    "            dst = '{:s}/images/train/{:s}'.format(train_data_dir, file_name)\n",
    "            shutil.copyfile(file, dst)\n",
    "        # label_voronoi\n",
    "        for file in glob.glob('./data/{:s}/patches/labels_voronoi/{:s}*'.format(dataset, name)):\n",
    "            file_name = file.split('/')[-1]\n",
    "            dst = '{:s}/labels_voronoi/train/{:s}'.format(train_data_dir, file_name)\n",
    "            shutil.copyfile(file, dst)\n",
    "        # label_cluster\n",
    "        for file in glob.glob('./data/{:s}/patches/labels_cluster/{:s}*'.format(dataset, name)):\n",
    "            file_name = file.split('/')[-1]\n",
    "            dst = '{:s}/labels_cluster/train/{:s}'.format(train_data_dir, file_name)\n",
    "            shutil.copyfile(file, dst)\n",
    "    # val\n",
    "    for img_name in val_list:\n",
    "        name = img_name.split('.')[0]\n",
    "        print(name)\n",
    "        ## images\n",
    "        for file in glob.glob('{:s}/{:s}/image/*'.format(data_dir, name)):\n",
    "            file_name = file.split('/')[-1]\n",
    "            dst = '{:s}/images/val/{:s}'.format(train_data_dir, file_name)\n",
    "            shutil.copyfile(file, dst)\n",
    "    # test\n",
    "    for img_name in test_list:\n",
    "        name = img_name.split('.')[0]\n",
    "        # images\n",
    "        for file in glob.glob('{:s}/{:s}/image/*'.format(data_dir, name)):\n",
    "            file_name = file.split('/')[-1]\n",
    "            dst = '{:s}/images/test/{:s}'.format(train_data_dir, file_name)\n",
    "            shutil.copyfile(file, dst)"
   ]
  },
  {
   "cell_type": "code",
   "execution_count": 33,
   "metadata": {},
   "outputs": [],
   "source": [
    "#organize_data_for_training(data_dir, dataset, train_data_dir)"
   ]
  },
  {
   "cell_type": "code",
   "execution_count": null,
   "metadata": {},
   "outputs": [],
   "source": []
  }
 ],
 "metadata": {
  "kernelspec": {
   "display_name": "ammai",
   "language": "python",
   "name": "ammai"
  },
  "language_info": {
   "codemirror_mode": {
    "name": "ipython",
    "version": 3
   },
   "file_extension": ".py",
   "mimetype": "text/x-python",
   "name": "python",
   "nbconvert_exporter": "python",
   "pygments_lexer": "ipython3",
   "version": "3.7.0"
  }
 },
 "nbformat": 4,
 "nbformat_minor": 2
}

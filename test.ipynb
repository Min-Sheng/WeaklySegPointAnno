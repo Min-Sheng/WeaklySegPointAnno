{
 "cells": [
  {
   "cell_type": "code",
   "execution_count": 1,
   "metadata": {},
   "outputs": [],
   "source": [
    "import os\n",
    "import torch\n",
    "import torch.backends.cudnn as cudnn\n",
    "import torch.nn.functional as F\n",
    "import numpy as np\n",
    "from PIL import Image\n",
    "import skimage.morphology as morph\n",
    "import scipy.ndimage.morphology as ndi_morph\n",
    "from skimage import measure\n",
    "from scipy import misc\n",
    "\n",
    "from model import ResUNet34\n",
    "import utils\n",
    "from accuracy import compute_metrics\n",
    "import time\n",
    "\n",
    "from options import Options\n",
    "from my_transforms import get_transforms"
   ]
  },
  {
   "cell_type": "code",
   "execution_count": 2,
   "metadata": {},
   "outputs": [
    {
     "name": "stdout",
     "output_type": "stream",
     "text": [
      "=> loading trained model\n",
      "=> loaded model at epoch 70\n",
      "=> Test begins:\n"
     ]
    }
   ],
   "source": [
    "opt = Options(isTrain=False)\n",
    "opt.parse()\n",
    "#opt.save_options()\n",
    "os.environ['CUDA_VISIBLE_DEVICES'] = ','.join(str(x) for x in opt.test['gpus'])\n",
    "\n",
    "img_dir = opt.test['img_dir']\n",
    "label_dir = opt.test['label_dir']\n",
    "save_dir = opt.test['save_dir']\n",
    "model_path = opt.test['model_path']\n",
    "save_flag = opt.test['save_flag']\n",
    "\n",
    "# data transforms\n",
    "test_transform = get_transforms(opt.transform['test'])\n",
    "\n",
    "model = ResUNet34(pretrained=opt.model['pretrained'])\n",
    "model = torch.nn.DataParallel(model)\n",
    "model = model.cuda()\n",
    "cudnn.benchmark = True\n",
    "\n",
    "# ----- load trained model ----- #\n",
    "print(\"=> loading trained model\")\n",
    "checkpoint = torch.load(model_path)\n",
    "model.load_state_dict(checkpoint['state_dict'])\n",
    "print(\"=> loaded model at epoch {}\".format(checkpoint['epoch']))\n",
    "model = model.module\n",
    "\n",
    "# switch to evaluate mode\n",
    "model.eval()\n",
    "counter = 0\n",
    "print(\"=> Test begins:\")\n",
    "\n",
    "img_names = os.listdir(img_dir)"
   ]
  },
  {
   "cell_type": "code",
   "execution_count": 3,
   "metadata": {},
   "outputs": [],
   "source": [
    "def get_probmaps(input, model, opt):\n",
    "    size = opt.test['patch_size']\n",
    "    overlap = opt.test['overlap']\n",
    "\n",
    "    if size == 0:\n",
    "        with torch.no_grad():\n",
    "            output = model(input.cuda())\n",
    "    else:\n",
    "        output = utils.split_forward(model, input, size, overlap)\n",
    "    output = output.squeeze(0)\n",
    "    prob_maps = F.softmax(output, dim=0).cpu().numpy()\n",
    "\n",
    "    return prob_maps"
   ]
  },
  {
   "cell_type": "code",
   "execution_count": 4,
   "metadata": {},
   "outputs": [
    {
     "name": "stdout",
     "output_type": "stream",
     "text": [
      "=> Processing image TCGA-21-5784-01Z-00-DX1:512_1024_x_512_1024.png\n",
      "\tComputing output probability maps...\n"
     ]
    },
    {
     "name": "stderr",
     "output_type": "stream",
     "text": [
      "/home/vincentwu-cmlab/miniconda3/envs/ammai/lib/python3.7/site-packages/ipykernel_launcher.py:10: DeprecationWarning: `imread` is deprecated!\n",
      "`imread` is deprecated in SciPy 1.0.0, and will be removed in 1.2.0.\n",
      "Use ``imageio.imread`` instead.\n",
      "  # Remove the CWD from sys.path while we load stuff.\n"
     ]
    }
   ],
   "source": [
    "for img_name in img_names[1:]:\n",
    "    # load test image\n",
    "    print('=> Processing image {:s}'.format(img_name))\n",
    "    img_path = '{:s}/{:s}'.format(img_dir, img_name)\n",
    "    img = Image.open(img_path)\n",
    "    ori_h = img.size[1]\n",
    "    ori_w = img.size[0]\n",
    "    name = os.path.splitext(img_name)[0]\n",
    "    label_path = '{:s}/{:s}_label.png'.format(label_dir, name)\n",
    "    gt = misc.imread(label_path)\n",
    "\n",
    "    input = test_transform((img,))[0].unsqueeze(0)\n",
    "\n",
    "    print('\\tComputing output probability maps...')\n",
    "    prob_maps = get_probmaps(input, model, opt)\n",
    "    pred = np.argmax(prob_maps, axis=0)  # prediction\n",
    "\n",
    "    pred_labeled = measure.label(pred)\n",
    "    pred_labeled = morph.remove_small_objects(pred_labeled, opt.post['min_area'])\n",
    "    pred_labeled = ndi_morph.binary_fill_holes(pred_labeled > 0)\n",
    "    pred_labeled = measure.label(pred_labeled)\n",
    "    break"
   ]
  },
  {
   "cell_type": "code",
   "execution_count": 5,
   "metadata": {},
   "outputs": [],
   "source": [
    "import matplotlib.pyplot as plt\n",
    "%matplotlib inline"
   ]
  },
  {
   "cell_type": "code",
   "execution_count": 6,
   "metadata": {},
   "outputs": [
    {
     "data": {
      "text/plain": [
       "(488, 488)"
      ]
     },
     "execution_count": 6,
     "metadata": {},
     "output_type": "execute_result"
    }
   ],
   "source": [
    "pred.shape"
   ]
  },
  {
   "cell_type": "code",
   "execution_count": 7,
   "metadata": {},
   "outputs": [
    {
     "data": {
      "image/png": "[encoded data removed]",
      "text/plain": [
       "<Figure size 432x288 with 1 Axes>"
      ]
     },
     "metadata": {
      "needs_background": "light"
     },
     "output_type": "display_data"
    }
   ],
   "source": [
    "plt.imshow(pred)\n",
    "plt.show()"
   ]
  },
  {
   "cell_type": "code",
   "execution_count": null,
   "metadata": {},
   "outputs": [],
   "source": []
  }
 ],
 "metadata": {
  "kernelspec": {
   "display_name": "ammai",
   "language": "python",
   "name": "ammai"
  },
  "language_info": {
   "codemirror_mode": {
    "name": "ipython",
    "version": 3
   },
   "file_extension": ".py",
   "mimetype": "text/x-python",
   "name": "python",
   "nbconvert_exporter": "python",
   "pygments_lexer": "ipython3",
   "version": "3.7.0"
  }
 },
 "nbformat": 4,
 "nbformat_minor": 2
}
